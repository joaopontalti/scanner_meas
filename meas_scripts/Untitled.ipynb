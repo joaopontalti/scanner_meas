{
 "cells": [
  {
   "cell_type": "code",
   "execution_count": 2,
   "id": "35182f91-f5ba-4517-b30e-c0bf10177019",
   "metadata": {},
   "outputs": [
    {
     "ename": "ModuleNotFoundError",
     "evalue": "No module named 'sequential_measurement'",
     "output_type": "error",
     "traceback": [
      "\u001b[1;31m---------------------------------------------------------------------------\u001b[0m",
      "\u001b[1;31mModuleNotFoundError\u001b[0m                       Traceback (most recent call last)",
      "Cell \u001b[1;32mIn[2], line 11\u001b[0m\n\u001b[0;32m      8\u001b[0m \u001b[38;5;28;01mfrom\u001b[39;00m \u001b[38;5;21;01msources\u001b[39;00m \u001b[38;5;28;01mimport\u001b[39;00m Source\n\u001b[0;32m      9\u001b[0m \u001b[38;5;28;01mfrom\u001b[39;00m \u001b[38;5;21;01mreceivers\u001b[39;00m \u001b[38;5;28;01mimport\u001b[39;00m Receiver\n\u001b[1;32m---> 11\u001b[0m \u001b[38;5;28;01mfrom\u001b[39;00m \u001b[38;5;21;01mppro_meas_insitu\u001b[39;00m \u001b[38;5;28;01mimport\u001b[39;00m InsituMeasurementPostPro\n\u001b[0;32m     12\u001b[0m \u001b[38;5;28;01mfrom\u001b[39;00m \u001b[38;5;21;01mjoaop_functions\u001b[39;00m \u001b[38;5;28;01mimport\u001b[39;00m sph2cart, format_meas_name, select_mics, list_folders,meas_info\n\u001b[0;32m     14\u001b[0m \u001b[38;5;28;01mfrom\u001b[39;00m \u001b[38;5;21;01mdecomposition_ev_ig\u001b[39;00m \u001b[38;5;28;01mimport\u001b[39;00m DecompositionEv2, ZsArrayEvIg, filter_evan\n",
      "File \u001b[1;32m~\\anaconda3\\envs\\Dataset_JoaoP\\TCC_DATASET_JoaoP\\scanner_meas\\process_meas\\ppro_meas_insitu.py:36\u001b[0m\n\u001b[0;32m     34\u001b[0m \u001b[38;5;66;03m# utils\u001b[39;00m\n\u001b[0;32m     35\u001b[0m \u001b[38;5;28;01mimport\u001b[39;00m \u001b[38;5;21;01mutils\u001b[39;00m\n\u001b[1;32m---> 36\u001b[0m \u001b[38;5;28;01mfrom\u001b[39;00m \u001b[38;5;21;01msequential_measurement\u001b[39;00m \u001b[38;5;28;01mimport\u001b[39;00m ScannerMeasurement\n\u001b[0;32m     38\u001b[0m \u001b[38;5;28;01mclass\u001b[39;00m \u001b[38;5;21;01mInsituMeasurementPostPro\u001b[39;00m():\n\u001b[0;32m     39\u001b[0m \u001b[38;5;250m    \u001b[39m\u001b[38;5;124;03m\"\"\" class to do post processing of insitu measurement\u001b[39;00m\n\u001b[0;32m     40\u001b[0m \u001b[38;5;124;03m    \"\"\"\u001b[39;00m\n",
      "\u001b[1;31mModuleNotFoundError\u001b[0m: No module named 'sequential_measurement'"
     ]
    }
   ],
   "source": [
    "import matplotlib.cm as cm\n",
    "import matplotlib.lines as mlines\n",
    "import numpy as np\n",
    "import pytta\n",
    "import os\n",
    "\n",
    "from controlsair import AirProperties, AlgControls#, add_noise, add_noise2\n",
    "from sources import Source\n",
    "from receivers import Receiver\n",
    "\n",
    "from ppro_meas_insitu import InsituMeasurementPostPro\n",
    "from joaop_functions import sph2cart, format_meas_name, select_mics, list_folders,meas_info\n",
    "\n",
    "from decomposition_ev_ig import DecompositionEv2, ZsArrayEvIg, filter_evan\n",
    "from qterm_estimation import ImpedanceDeductionQterm\n",
    "from scipy.interpolate import griddata\n",
    "\n",
    "from mpl_toolkits.mplot3d.art3d import Poly3DCollection\n",
    "from mpl_toolkits.mplot3d import Axes3D\n",
    "\n",
    "from decomp_quad_v2 import Decomposition_QDT\n",
    "from decomp2mono import Decomposition_2M  # Monopoles"
   ]
  }
 ],
 "metadata": {
  "kernelspec": {
   "display_name": "Python 3 (ipykernel)",
   "language": "python",
   "name": "python3"
  },
  "language_info": {
   "codemirror_mode": {
    "name": "ipython",
    "version": 3
   },
   "file_extension": ".py",
   "mimetype": "text/x-python",
   "name": "python",
   "nbconvert_exporter": "python",
   "pygments_lexer": "ipython3",
   "version": "3.8.19"
  }
 },
 "nbformat": 4,
 "nbformat_minor": 5
}
